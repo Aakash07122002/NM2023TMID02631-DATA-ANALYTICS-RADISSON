{
  "nbformat": 4,
  "nbformat_minor": 0,
  "metadata": {
    "colab": {
      "provenance": []
    },
    "kernelspec": {
      "name": "python3",
      "display_name": "Python 3"
    },
    "language_info": {
      "name": "python"
    }
  },
  "cells": [
    {
      "cell_type": "markdown",
      "source": [
        "#**AI ML Assingment 1 (Basic Python)**\n"
      ],
      "metadata": {
        "id": "CzAlHVcKH_DS"
      }
    },
    {
      "cell_type": "markdown",
      "source": [
        "# Task 1\n"
      ],
      "metadata": {
        "id": "oW4nwq1WIH-B"
      }
    },
    {
      "cell_type": "markdown",
      "source": [
        "### Create two list and join those two list\n",
        "\n"
      ],
      "metadata": {
        "id": "4iDPgY5JIYrk"
      }
    },
    {
      "cell_type": "code",
      "source": [
        "list_1 = [1,2,3,4,5]\n",
        "list_2 = [6,7,8,9,10]\n",
        "\n",
        "#joined list is\n",
        "\n",
        "joined_list = list_1 + list_2\n",
        "print(joined_list)"
      ],
      "metadata": {
        "colab": {
          "base_uri": "https://localhost:8080/"
        },
        "id": "bTE1_mT_IfHe",
        "outputId": "f70f3eb8-a4a2-419f-d96f-f6c3e809969f"
      },
      "execution_count": 1,
      "outputs": [
        {
          "output_type": "stream",
          "name": "stdout",
          "text": [
            "[1, 2, 3, 4, 5, 6, 7, 8, 9, 10]\n"
          ]
        }
      ]
    },
    {
      "cell_type": "markdown",
      "source": [
        "# Task 2\n"
      ],
      "metadata": {
        "id": "UYDwRjTlImhx"
      }
    },
    {
      "cell_type": "markdown",
      "source": [
        "### With if statement find the even number\n"
      ],
      "metadata": {
        "id": "kzJwr5ycIn6D"
      }
    },
    {
      "cell_type": "code",
      "source": [
        "#lets find the even numbers from the list\n",
        "\n",
        "print(\"Even numbers are: \", end=\"\");\n",
        "for i in range(0,len(joined_list)):\n",
        "    if(joined_list[i]%2==0):\n",
        "        print(joined_list[i],end=\" \")"
      ],
      "metadata": {
        "colab": {
          "base_uri": "https://localhost:8080/"
        },
        "id": "pJznNwxmIqF6",
        "outputId": "073cb1f5-405c-4946-d145-baf4d4fa584c"
      },
      "execution_count": 2,
      "outputs": [
        {
          "output_type": "stream",
          "name": "stdout",
          "text": [
            "Even numbers are: 2 4 6 8 10 "
          ]
        }
      ]
    },
    {
      "cell_type": "markdown",
      "source": [
        "# Task 3\n"
      ],
      "metadata": {
        "id": "R7D9PSi-ItfX"
      }
    },
    {
      "cell_type": "markdown",
      "source": [
        "###  Create a dictionary with 3 keys and 2 values for each key\n"
      ],
      "metadata": {
        "id": "A6oy12W4IyTo"
      }
    },
    {
      "cell_type": "code",
      "source": [
        "my_dict = {\n",
        "    'key1':['apple','orange'],\n",
        "    'key2':['cherry','grape'],\n",
        "    'key3':['guava','mango'],\n",
        "}\n",
        "\n",
        "print(my_dict)"
      ],
      "metadata": {
        "colab": {
          "base_uri": "https://localhost:8080/"
        },
        "id": "L6qTheDsI0ws",
        "outputId": "15c9f8db-bded-4c05-b863-d20ebe973427"
      },
      "execution_count": 3,
      "outputs": [
        {
          "output_type": "stream",
          "name": "stdout",
          "text": [
            "{'key1': ['apple', 'orange'], 'key2': ['cherry', 'grape'], 'key3': ['guava', 'mango']}\n"
          ]
        }
      ]
    },
    {
      "cell_type": "markdown",
      "source": [
        "# Task 4"
      ],
      "metadata": {
        "id": "2loQGOKuI6SX"
      }
    },
    {
      "cell_type": "markdown",
      "source": [
        "### Create a function with if statement which is used to find the odd numbers"
      ],
      "metadata": {
        "id": "NtDGIebAI9Xg"
      }
    },
    {
      "cell_type": "code",
      "source": [
        "#function to find odd numbers\n",
        "\n",
        "def odd_num(list_num):\n",
        "    print(\"Odd numbers are: \", end=\"\")\n",
        "    for i in list_num:\n",
        "        if(i%2!=0):\n",
        "            print(i,end=\" \")\n",
        "\n",
        "#function call\n",
        "odd_num(joined_list)\n",
        ""
      ],
      "metadata": {
        "colab": {
          "base_uri": "https://localhost:8080/"
        },
        "id": "SgOQ4U-zJBH4",
        "outputId": "6941d6ba-f539-4b07-992c-2b532c812ee0"
      },
      "execution_count": 4,
      "outputs": [
        {
          "output_type": "stream",
          "name": "stdout",
          "text": [
            "Odd numbers are: 1 3 5 7 9 "
          ]
        }
      ]
    },
    {
      "cell_type": "markdown",
      "source": [
        "# Task 5"
      ],
      "metadata": {
        "id": "MiqIumC2JFnY"
      }
    },
    {
      "cell_type": "markdown",
      "source": [
        "### Wrtie a python function to sum all the numbers in a list"
      ],
      "metadata": {
        "id": "DUcHo8E6JG0_"
      }
    },
    {
      "cell_type": "code",
      "source": [
        "#function to sum all the numbers in the list\n",
        "\n",
        "def sum_of_numbers(fun_list):\n",
        "    Sum = 0\n",
        "    for num in fun_list:\n",
        "        Sum = Sum + num\n",
        "    print(\"Output:\",Sum)\n",
        "\n",
        "#calling function\n",
        "sample_list = [8,2,3,0,7]\n",
        "sum_of_numbers(sample_list)"
      ],
      "metadata": {
        "colab": {
          "base_uri": "https://localhost:8080/"
        },
        "id": "xmOtu0GuJJhY",
        "outputId": "65b7b5dd-a124-480d-81a0-f54663507b4e"
      },
      "execution_count": 5,
      "outputs": [
        {
          "output_type": "stream",
          "name": "stdout",
          "text": [
            "Output: 20\n"
          ]
        }
      ]
    }
  ]
}