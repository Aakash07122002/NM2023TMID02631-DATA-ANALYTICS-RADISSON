{
  "nbformat": 4,
  "nbformat_minor": 0,
  "metadata": {
    "colab": {
      "provenance": []
    },
    "kernelspec": {
      "name": "python3",
      "display_name": "Python 3"
    },
    "language_info": {
      "name": "python"
    }
  },
  "cells": [
    {
      "cell_type": "markdown",
      "source": [
        "TASK 1"
      ],
      "metadata": {
        "id": "S-HbII2KYpoO"
      }
    },
    {
      "cell_type": "code",
      "source": [
        "list1 = [1 ,2, 3, 4, 5]\n",
        "list2 = [6, 7, 8, 9, 10]\n",
        "joined_list = list1 + list2\n",
        "print(joined_list)"
      ],
      "metadata": {
        "colab": {
          "base_uri": "https://localhost:8080/"
        },
        "id": "eyDO0_hiYtEm",
        "outputId": "85fd5927-90a7-4683-8858-cc5c83a74491"
      },
      "execution_count": null,
      "outputs": [
        {
          "output_type": "stream",
          "name": "stdout",
          "text": [
            "[1, 2, 3, 4, 5, 6, 7, 8, 9, 10]\n"
          ]
        }
      ]
    },
    {
      "cell_type": "markdown",
      "source": [
        "TASK 2"
      ],
      "metadata": {
        "id": "JcusneJ5ZDFf"
      }
    },
    {
      "cell_type": "code",
      "source": [
        "print(\"Even numbers are: \", end=\"\");\n",
        "for i in range(0,len(joined_list)):\n",
        "    if(joined_list[i]%2==0):\n",
        "        print(joined_list[i],end=\" \")"
      ],
      "metadata": {
        "colab": {
          "base_uri": "https://localhost:8080/"
        },
        "id": "8fCNYqwjfaXX",
        "outputId": "c1c02339-649c-420b-f85c-cd4739473525"
      },
      "execution_count": null,
      "outputs": [
        {
          "output_type": "stream",
          "name": "stdout",
          "text": [
            "Even numbers are: 2 4 6 8 10 "
          ]
        }
      ]
    },
    {
      "cell_type": "markdown",
      "source": [
        "TASK 3"
      ],
      "metadata": {
        "id": "6ldMTohvgFjQ"
      }
    },
    {
      "cell_type": "code",
      "source": [
        "my_dict = {\n",
        "    'key1':['apple','orange'],\n",
        "    'key2':['cherry','grape'],\n",
        "    'key3':['guava','mango'],\n",
        "}\n",
        "print(my_dict)"
      ],
      "metadata": {
        "colab": {
          "base_uri": "https://localhost:8080/"
        },
        "id": "nwPMhkZRgIxT",
        "outputId": "b89cdb42-e0ff-4c5f-d9f3-2faa4f685f9b"
      },
      "execution_count": null,
      "outputs": [
        {
          "output_type": "stream",
          "name": "stdout",
          "text": [
            "{'key1': ['apple', 'orange'], 'key2': ['cherry', 'grape'], 'key3': ['guava', 'mango']}\n"
          ]
        }
      ]
    },
    {
      "cell_type": "markdown",
      "source": [
        "TASK 4"
      ],
      "metadata": {
        "id": "abP2HgKng2Db"
      }
    },
    {
      "cell_type": "code",
      "source": [
        "def odd_num(list_num):\n",
        "  print(\"Odd numbers are: \",end=\"\")\n",
        "  for i in list_num:\n",
        "    if(i%2!=0):\n",
        "      print(i,end=\" \")\n",
        "odd_num(joined_list)"
      ],
      "metadata": {
        "colab": {
          "base_uri": "https://localhost:8080/"
        },
        "id": "70Umwha-g71n",
        "outputId": "6c86b5f7-e185-4d27-d2d6-73c5e89d2f99"
      },
      "execution_count": null,
      "outputs": [
        {
          "output_type": "stream",
          "name": "stdout",
          "text": [
            "Odd numbers are: 1 3 5 7 9 "
          ]
        }
      ]
    },
    {
      "cell_type": "markdown",
      "source": [
        "TASK 5"
      ],
      "metadata": {
        "id": "LGRa3UIQhpK-"
      }
    },
    {
      "cell_type": "code",
      "source": [
        "def sum_of_numbers(fun_list):\n",
        "  Sum = 0\n",
        "  for num in fun_list:\n",
        "    Sum = Sum + num\n",
        "  print(\"Output:\",Sum)\n",
        "sample_list = [8,2,3,0,7]\n",
        "sum_of_numbers(sample_list)"
      ],
      "metadata": {
        "colab": {
          "base_uri": "https://localhost:8080/"
        },
        "id": "V0MgqQQihru1",
        "outputId": "12ac50be-be63-4e83-a54d-94320d81ed05"
      },
      "execution_count": null,
      "outputs": [
        {
          "output_type": "stream",
          "name": "stdout",
          "text": [
            "Output: 20\n"
          ]
        }
      ]
    }
  ]
}